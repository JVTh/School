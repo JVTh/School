{
  "nbformat": 4,
  "nbformat_minor": 0,
  "metadata": {
    "colab": {
      "provenance": []
    },
    "kernelspec": {
      "name": "python3",
      "display_name": "Python 3"
    },
    "language_info": {
      "name": "python"
    }
  },
  "cells": [
    {
      "cell_type": "code",
      "source": [],
      "metadata": {
        "id": "38wF72RPOALj"
      },
      "execution_count": null,
      "outputs": []
    },
    {
      "cell_type": "markdown",
      "source": [
        "# Computer vision project\n",
        "Jón Víðir Þorvaldsson\n",
        "Emotion Analysis of Political Party Images\n",
        "\n",
        "\n",
        "In this project, I explore image data to discern emotions within a collection of political party images. The project focuses on leveraging computer vision techniques to analyse the images in order to shed light on the emotions conveyed and potential patterns across different political parties in Iceland, each with its characteristics and history (Szeliski, 2010, p. 3). This way, I aim to gain valuable insights into the sentiments and characteristics portrayed in these images, and if they reflect and contribute to the characteristics of the parties in general.\n",
        "\n",
        "Images were gathered from the Meta ad-library and the webpages of each political party. For selecting the four political parties in this assignment, I considered the landscape of Icelandic politics, aiming to capture a spectrum of ideologies and historical contexts. Two of the chosen parties, Sjálfstæðisflokkurinn and Samfylkinging, deeply entrenched in Icelandic political history, bring a legacy of influence and longevity. Complementing these established entities are two newer parties, Píratar and Miðflokkurinn. Furthermore, I sought to balance the selection between conservative and liberal ideologies, ensuring a comprehensive representation of the ideological spectrum prevalent in Icelandic politics. This inclusion enables a nuanced exploration of contrasting viewpoints and policy agendas. Moreover, by incorporating both active governing parties and those in opposition, I aim to capture the multifaceted dynamics of Icelandic politics. This selection allows for an examination of the contrasting roles and responsibilities undertaken by parties in positions of power versus those advocating for change from outside the government. Mirroring the approach of Aparicio, Sequeira, and Costa (2021) in analyzing the emotional content of political parties' communications on Twitter during the pandemic, this project extends the methodology to explore the emotional landscape within Icelandic political imagery.\n",
        "\n",
        "This exploration of emotional expressions in political imagery aligns with broader academic discussions on the intrinsic link between emotion and rationality in politics. This connection challenges the traditional view of emotions as merely irrational or epiphenomenal, suggesting instead that they are integral to strategic communication and voter persuasion. By analyzing emotional cues in political party images, this project contributes to understanding how emotions, far from being irrational, serve as a sophisticated tool for political actors to engage and influence the electorate, resonating with the nuanced perspectives on emotion's role in political analysis (Mercer, 2006). The strategic use of emotions such as fear has been highlighted in recent academic research. Fear appears to serve as a potent mechanism for political actors to transcend traditional boundaries, enhancing receptivity to new information among voters. This strategy, while effective in broadening a party's appeal to ideologically diverse voter groups, requires careful differentiation from competitors to avoid potential drawbacks (Scheller, 2019).\n",
        "\n",
        "This project's analysis of emotional expressions within Icelandic political party imagery not only illuminates the strategic deployment of emotions in political communication but also aims to highlight the sophistication behind these tactics as they intersect with voter engagement strategies. By integrating computer vision techniques to decode the emotional landscape of political imagery, projects like this can contribute significantly to our understanding of how political entities leverage emotional expressions to shape public perception and influence electoral dynamics, thereby enriching the discourse on the role of emotion in politics and its impact on democratic engagement.\n",
        "\n",
        "\n",
        "# Importing necessary libraries for handling files, image processing, data manipulation and visualization.\n",
        "import os\n",
        "import zipfile\n",
        "from PIL import Image\n",
        "import numpy as np\n",
        "import pandas as pd\n",
        "import matplotlib.pyplot as plt\n",
        "import plotly.express as px\n",
        "!pip install deepface\n",
        "\n",
        "# Importing the deepface library for emotion analysis.\n",
        "from deepface import DeepFace\n",
        "\n",
        "\n",
        "# Extracting the images from Google Drive into the working directory.\n",
        "\n",
        "!gdown https://drive.google.com/uc?id=1RQ-xiyG20k2Bb9-nmw48GX1NUNpjnJE2\n",
        "zip_path = 'Political party images CV.zip'\n",
        "with zipfile.ZipFile(zip_path, 'r') as zip_ref:\n",
        "    zip_ref.extractall('.')\n",
        "\n",
        "In this initial phase the images are pre-processed and standardized. This is crucial since variations in image size can affect the performance of the analysis, potentially leading to incostistencies or biases. This allows for a more unbiased analysis and makes the images ready for machine learning models for emotion recognition.\n",
        "from PIL import Image\n",
        "import os\n",
        "\n",
        "def load_and_resize_images(folder_path, size=(256, 256)):\n",
        "    images = []\n",
        "    print(f\"Loading images from {folder_path}...\")\n",
        "    image_count = 0  # Counting how many images are processed\n",
        "\n",
        "    for filename in os.listdir(folder_path):\n",
        "        if filename.endswith('.jpeg'):  # Confirming the file extension matches\n",
        "            img_path = os.path.join(folder_path, filename)\n",
        "            try:\n",
        "                img = Image.open(img_path).resize(size)\n",
        "                images.append((img, img_path))\n",
        "                image_count += 1\n",
        "            except Exception as e:\n",
        "                print(f\"Could not load image {filename}: {e}\")\n",
        "    \n",
        "    print(f\"Loaded and resized {image_count} images.\")\n",
        "    return images\n",
        "\n",
        "# Looking into the folders for each party and how many images are processed.\n",
        "# We can see for some reason only 11 out of the 12 images are being processed for this party.\n",
        "\n",
        "folder_path = \"/content/Political party images CV/Sjalfstaedis\"\n",
        "loaded_images = load_and_resize_images(folder_path)\n",
        "print(f\"Total images loaded: {len(loaded_images)}\")\n",
        "# The same process for other parties, all 12 images are being processed.\n",
        "folder_path = \"/content/Political party images CV/Samfylking\"\n",
        "loaded_images = load_and_resize_images(folder_path)\n",
        "print(f\"Total images loaded: {len(loaded_images)}\")\n",
        "folder_path = \"/content/Political party images CV/Piratar\"\n",
        "loaded_images = load_and_resize_images(folder_path)\n",
        "print(f\"Total images loaded: {len(loaded_images)}\")\n",
        "folder_path = \"/content/Political party images CV/Midflokkur\"\n",
        "loaded_images = load_and_resize_images(folder_path)\n",
        "print(f\"Total images loaded: {len(loaded_images)}\")\n",
        "# Emotion analysis\n",
        "This segment analyses and aggregates emotion scores from images affiliated with the four political parties using DeepFace. Initially, the process involves setting up a structured directory environment, where images are organized by political parties, allowing for seamless access and batch processing. Crucial to this analysis is the analyze_emotions_in_folder function, which iterates through each party's image repository, applying the DeepFace.analyze method to quantify emotional expressions across predefined categories (such as 'happy', 'sad', 'angry', etc.). This method meticulously computes emotion scores for individual images, facilitating aggregation of these scores to encapsulate the overarching emotional associated with each party's visual portrayal.\n",
        "parent_folder = \"/content/Political party images CV\"\n",
        "folders = [\"Sjalfstaedis\", \"Samfylking\", \"Midflokkur\", \"Piratar\"]\n",
        "\n",
        "def analyze_emotions_in_folder(folder_name, folder_path):\n",
        "    emotion_scores = {emotion: [] for emotion in ['angry', 'disgust', 'fear', 'happy', 'sad', 'surprise', 'neutral']}\n",
        "    \n",
        "    image_paths = [os.path.join(folder_path, f) for f in os.listdir(folder_path) if f.endswith('.jpeg')]\n",
        "    \n",
        "    for img_path in image_paths:\n",
        "        try:\n",
        "            analysis = DeepFace.analyze(img_path=img_path, actions=['emotion'])\n",
        "            if isinstance(analysis, list):\n",
        "                analysis = analysis[0]\n",
        "            \n",
        "            # Aggregate scores for each emotion\n",
        "            for emotion, score in analysis['emotion'].items():\n",
        "                emotion_scores[emotion].append(score)\n",
        "                \n",
        "        except Exception as e:\n",
        "            print(f\"Error analyzing {img_path}: {e}\")\n",
        "\n",
        "    return emotion_scores\n",
        "\n",
        "# Dictionary to hold aggregated emotion scores for each party\n",
        "emotion_aggregates = {folder: {} for folder in folders}\n",
        "\n",
        "for folder in folders:\n",
        "    print(f\"\\nAnalyzing images in folder: {folder}\")\n",
        "    folder_path = os.path.join(parent_folder, folder)\n",
        "    emotion_aggregates[folder] = analyze_emotions_in_folder(folder, folder_path)\n",
        "\n",
        "# Calculate and print average emotion scores for each political party\n",
        "for party, scores in emotion_aggregates.items():\n",
        "    print(f\"\\nAverage emotion scores for {party}:\")\n",
        "    for emotion, score_list in scores.items():\n",
        "        if score_list:\n",
        "            average_score = np.mean(score_list)\n",
        "            print(f\"{emotion.capitalize()}: {average_score:.2f}\")\n",
        "        else:\n",
        "            print(f\"{emotion.capitalize()}: No data\")\n",
        "As we can see, the results differ between the parties, and errors came up for four images in total, two from Samfylking and two from Píratar. To get a clearer view of the differences between the parties, I take a quick look at the top 3 emotions for each party.\n",
        "import pandas as pd\n",
        "\n",
        "# Using the results from the emotion analysis\n",
        "data = {\n",
        "    'Party': ['Sjalfstaedis', 'Samfylking', 'Midflokkur', 'Piratar'],\n",
        "    'Angry': [6.26, 11.09, 5.78, 2.02],\n",
        "    'Disgust': [0.01, 0.00, 0.00, 0.02],\n",
        "    'Fear': [14.57, 9.84, 1.19, 7.00],\n",
        "    'Happy': [29.46, 35.55, 45.77, 68.27],\n",
        "    'Sad': [23.87, 5.49, 12.26, 4.37],\n",
        "    'Surprise': [1.77, 0.02, 0.00, 0.07],\n",
        "    'Neutral': [24.07, 38.02, 35.00, 18.25]\n",
        "}\n",
        "df = pd.DataFrame(data)\n",
        "\n",
        "# Adjusted function to get top 3 emotions for each party\n",
        "def get_top_3_emotions(row):\n",
        "    row_data = row[1:] if 'Party' in row.index else row\n",
        "    sorted_emotions = row_data.sort_values(ascending=False)\n",
        "    # Getting the top 3 emotions and their scores\n",
        "    top_3_emotions = sorted_emotions.head(3).index.tolist()\n",
        "    return pd.Series(top_3_emotions)\n",
        "\n",
        "top_3_emotions_df = df.apply(get_top_3_emotions, axis=1)\n",
        "top_3_emotions_df.columns = ['1st Emotion', '2nd Emotion', '3rd Emotion']\n",
        "\n",
        "result_df = pd.concat([df[['Party']], top_3_emotions_df], axis=1)\n",
        "\n",
        "print(result_df)\n",
        "\n",
        "Happiness and neutrality are the most expressed emotions by the four parties, happiness is the top emotion for all except Samfylkingin, where neutrality has the highest score and happiness is in close second place. In third place we have sadness for Sjálfstæðisflokkur and Miðflokkur, but for Samfylking it is anger and Píratar fear. To look even further into these differences and enable for a clearer comparison between the four parties, I visualize the distribution of emotional composition for each party. Since four images could not be analysed, two from Samfylking and two from Píratar, and the algorythm seems to have missed one image from Sjálfstæðis, I normalize the scores into proportions to emphasize the relative importance of each emotion, rather than to see the absolute values.\n",
        "import matplotlib.pyplot as plt\n",
        "\n",
        "data = {\n",
        "    'Party': ['Sjalfstaedis', 'Samfylking', 'Midflokkur', 'Piratar'],\n",
        "    'Angry': [6.26, 11.09, 5.78, 2.02],\n",
        "    'Disgust': [0.01, 0.00, 0.00, 0.02],\n",
        "    'Fear': [14.57, 9.84, 1.19, 7.00],\n",
        "    'Happy': [29.46, 35.55, 45.77, 68.27],\n",
        "    'Sad': [23.87, 5.49, 12.26, 4.37],\n",
        "    'Surprise': [1.77, 0.02, 0.00, 0.07],\n",
        "    'Neutral': [24.07, 38.02, 35.00, 18.25]\n",
        "}\n",
        "\n",
        "df = pd.DataFrame(data)\n",
        "\n",
        "# Normalizing the scores to get proportions\n",
        "emotion_columns = df.columns[1:]  \n",
        "df[emotion_columns] = df[emotion_columns].div(df[emotion_columns].sum(axis=1), axis=0)\n",
        "\n",
        "color_map = {\n",
        "    \"Angry\": \"red\",\n",
        "    \"Disgust\": \"limegreen\",\n",
        "    \"Fear\": \"purple\",\n",
        "    \"Happy\": \"gold\",\n",
        "    \"Sad\": \"blue\",\n",
        "    \"Surprise\": \"orange\",\n",
        "    \"Neutral\": \"grey\"\n",
        "}\n",
        "\n",
        "ax = df.set_index(\"Party\")[emotion_columns].plot(kind=\"bar\", stacked=True, figsize=(10, 7), color=[color_map[col] for col in emotion_columns], edgecolor='black')\n",
        "\n",
        "plt.title(\"Proportional Distribution of Emotions by Political Party\")\n",
        "plt.xlabel(\"Political Party\")\n",
        "plt.ylabel(\"Proportion\")\n",
        "plt.legend(title=\"Emotion\", bbox_to_anchor=(1.05, 1), loc='upper left')\n",
        "plt.xticks(rotation=45)\n",
        "plt.tight_layout()\n",
        "\n",
        "plt.show()\n",
        "\n",
        "As seen on the barchart, Sjálfstæðisflokkurinn shows a relatively balanced emotional composition with notable proportions of Fear, Sad and Neutral, alonside a significant presence of happy, which takes up the largest proportion of their emotions portrayed. The emotional profile of Samfylkingin is predominantly positive and calm, dominated by Happy and Neutral emotions. Even though they have the highest proportion of Angry out of the four parties, it still takes up a relatively small proportion of their profile overall. Miðflokkurinn is charectarized by a high proportion of Happy, followed by Neutral, so their overall imegary is rather positive, sadness takes up the third biggest proportion of their profile but is still relatively small. Píratar stand out with an overwhelming dominance of Happy, dwarfing all other emotions significantly. The minimal proportion of Angry, Fear and Sad alongside a lower Neutral score compared to others, suggest an exceptionally positive emotional strategy, possibly aiming to inspire their audience. The barchart is still missing some key emotions found in the overall analysis, so I plot this even further with an interactive radar chart.\n",
        "!pip install plotly\n",
        "import plotly.graph_objects as go\n",
        "import pandas as pd\n",
        "\n",
        "data = {\n",
        "    'Party': ['Sjalfstaedis', 'Samfylking', 'Midflokkur', 'Piratar'],\n",
        "    'Angry': [6.26, 11.09, 5.78, 2.02],\n",
        "    'Disgust': [0.01, 0.00, 0.00, 0.02],\n",
        "    'Fear': [14.57, 9.84, 1.19, 7.00],\n",
        "    'Happy': [29.46, 35.55, 45.77, 68.27],\n",
        "    'Sad': [23.87, 5.49, 12.26, 4.37],\n",
        "    'Surprise': [1.77, 0.02, 0.00, 0.07],\n",
        "    'Neutral': [24.07, 38.02, 35.00, 18.25]\n",
        "}\n",
        "df = pd.DataFrame(data)\n",
        "\n",
        "emotion_columns = df.columns[1:]  # Exclude \"Party\"\n",
        "df[emotion_columns] = df[emotion_columns].div(df[emotion_columns].sum(axis=1), axis=0)\n",
        "\n",
        "fig = go.Figure()\n",
        "\n",
        "for index, row in df.iterrows():\n",
        "    fig.add_trace(go.Scatterpolar(\n",
        "        r=row[emotion_columns].values,\n",
        "        theta=emotion_columns,\n",
        "        fill='toself',\n",
        "        name=row[\"Party\"]\n",
        "    ))\n",
        "\n",
        "fig.update_layout(\n",
        "    polar=dict(\n",
        "        radialaxis=dict(\n",
        "            visible=True,\n",
        "            range=[0, 1]\n",
        "        )),\n",
        "    title=\"Proportional Distribution of Emotions by Political Party\",\n",
        "    showlegend=True\n",
        ")\n",
        "\n",
        "fig.show()\n",
        "\n",
        "The radar chart highlights the balance of emotions within each party's profile. For instance, the broader spread of Sjálfstæðisflokkurinn across emotions like Fear, Sad, and Neutral — with relatively high values — suggests a more balanced emotional appeal compared to others. The proximity between Happy and Neutral for Samfylkingin and Miðflokkurinn, for instance, suggests these parties aim to blend positivity with a sense of calm or neutrality. This might indicate a strategic positioning to appeal as both optimistic and reliable. In contrast, the sharp contrast between Happy and other emotions in Píratar's profile underscores a more singular focus on projecting positivity. Ultimately, the radar chart offers a clear \"emotional signature\" for each party, a holistic view that encapsulates the party's emotional branding. This signature provides insights into how each party might be leveraging emotional content to forge a distinct identity within the political landscape, aiming to resonate with specific voter segments or societal values."
      ],
      "metadata": {
        "id": "lH4osAvZrskF"
      }
    },
    {
      "cell_type": "markdown",
      "source": [
        "Emotion Analysis of Political Party Images\n",
        "\n"
      ],
      "metadata": {
        "id": "C7K1lr7rmKgS"
      }
    },
    {
      "cell_type": "markdown",
      "source": [],
      "metadata": {
        "id": "ubkOMCKAmMNE"
      }
    },
    {
      "cell_type": "markdown",
      "source": [
        "In this project, I explore image data to discern emotions within a collection of political party images. The project focuses on leveraging computer vision techniques to analyse the images in order to shed light on the emotions conveyed and potential patterns across different political parties in Iceland, each with its characteristics and history (Szeliski, 2010, p. 3). This way, I aim to gain valuable insights into the sentiments and characteristics portrayed in these images, and if they reflect and contribute to the characteristics of the parties in general.\n",
        "\n",
        "Images were gathered from the Meta ad-library and the webpages of each political party. For selecting the four political parties in this assignment, I considered the landscape of Icelandic politics, aiming to capture a spectrum of ideologies and historical contexts. Two of the chosen parties, Sjálfstæðisflokkurinn and Samfylkinging, deeply entrenched in Icelandic political history, bring a legacy of influence and longevity. Complementing these established entities are two newer parties, Píratar and Miðflokkurinn. Furthermore, I sought to balance the selection between conservative and liberal ideologies, ensuring a comprehensive representation of the ideological spectrum prevalent in Icelandic politics. This inclusion enables a nuanced exploration of contrasting viewpoints and policy agendas. Moreover, by incorporating both active governing parties and those in opposition, I aim to capture the multifaceted dynamics of Icelandic politics. This selection allows for an examination of the contrasting roles and responsibilities undertaken by parties in positions of power versus those advocating for change from outside the government. Mirroring the approach of Aparicio, Sequeira, and Costa (2021) in analyzing the emotional content of political parties' communications on Twitter during the pandemic, this project extends the methodology to explore the emotional landscape within Icelandic political imagery.\n",
        "\n",
        "This exploration of emotional expressions in political imagery aligns with broader academic discussions on the intrinsic link between emotion and rationality in politics. This connection challenges the traditional view of emotions as merely irrational or epiphenomenal, suggesting instead that they are integral to strategic communication and voter persuasion. By analyzing emotional cues in political party images, this project contributes to understanding how emotions, far from being irrational, serve as a sophisticated tool for political actors to engage and influence the electorate, resonating with the nuanced perspectives on emotion's role in political analysis (Mercer, 2006). The strategic use of emotions such as fear has been highlighted in recent academic research. Fear appears to serve as a potent mechanism for political actors to transcend traditional boundaries, enhancing receptivity to new information among voters. This strategy, while effective in broadening a party's appeal to ideologically diverse voter groups, requires careful differentiation from competitors to avoid potential drawbacks (Scheller, 2019).\n",
        "\n",
        "This project's analysis of emotional expressions within Icelandic political party imagery not only illuminates the strategic deployment of emotions in political communication but also aims to highlight the sophistication behind these tactics as they intersect with voter engagement strategies. By integrating computer vision techniques to decode the emotional landscape of political imagery, projects like this can contribute significantly to our understanding of how political entities leverage emotional expressions to shape public perception and influence electoral dynamics, thereby enriching the discourse on the role of emotion in politics and its impact on democratic engagement.\n",
        "\n"
      ],
      "metadata": {
        "id": "bHRZZDNHmtLv"
      }
    },
    {
      "cell_type": "code",
      "execution_count": null,
      "metadata": {
        "colab": {
          "base_uri": "https://localhost:8080/"
        },
        "id": "JNdPAab-jI2k",
        "outputId": "9598b8e7-0fec-49b9-ecd1-da79f0fc15e2"
      },
      "outputs": [
        {
          "output_type": "stream",
          "name": "stdout",
          "text": [
            "Collecting deepface\n",
            "  Downloading deepface-0.0.93-py3-none-any.whl.metadata (30 kB)\n",
            "Requirement already satisfied: requests>=2.27.1 in /usr/local/lib/python3.10/dist-packages (from deepface) (2.32.3)\n",
            "Requirement already satisfied: numpy>=1.14.0 in /usr/local/lib/python3.10/dist-packages (from deepface) (1.26.4)\n",
            "Requirement already satisfied: pandas>=0.23.4 in /usr/local/lib/python3.10/dist-packages (from deepface) (2.2.2)\n",
            "Requirement already satisfied: gdown>=3.10.1 in /usr/local/lib/python3.10/dist-packages (from deepface) (5.2.0)\n",
            "Requirement already satisfied: tqdm>=4.30.0 in /usr/local/lib/python3.10/dist-packages (from deepface) (4.66.6)\n",
            "Requirement already satisfied: Pillow>=5.2.0 in /usr/local/lib/python3.10/dist-packages (from deepface) (11.0.0)\n",
            "Requirement already satisfied: opencv-python>=4.5.5.64 in /usr/local/lib/python3.10/dist-packages (from deepface) (4.10.0.84)\n",
            "Requirement already satisfied: tensorflow>=1.9.0 in /usr/local/lib/python3.10/dist-packages (from deepface) (2.17.1)\n",
            "Requirement already satisfied: keras>=2.2.0 in /usr/local/lib/python3.10/dist-packages (from deepface) (3.5.0)\n",
            "Requirement already satisfied: Flask>=1.1.2 in /usr/local/lib/python3.10/dist-packages (from deepface) (3.0.3)\n",
            "Collecting flask-cors>=4.0.1 (from deepface)\n",
            "  Downloading Flask_Cors-5.0.0-py2.py3-none-any.whl.metadata (5.5 kB)\n",
            "Collecting mtcnn>=0.1.0 (from deepface)\n",
            "  Downloading mtcnn-1.0.0-py3-none-any.whl.metadata (5.8 kB)\n",
            "Collecting retina-face>=0.0.1 (from deepface)\n",
            "  Downloading retina_face-0.0.17-py3-none-any.whl.metadata (10 kB)\n",
            "Collecting fire>=0.4.0 (from deepface)\n",
            "  Downloading fire-0.7.0.tar.gz (87 kB)\n",
            "\u001b[2K     \u001b[90m━━━━━━━━━━━━━━━━━━━━━━━━━━━━━━━━━━━━━━━━\u001b[0m \u001b[32m87.2/87.2 kB\u001b[0m \u001b[31m5.2 MB/s\u001b[0m eta \u001b[36m0:00:00\u001b[0m\n",
            "\u001b[?25h  Preparing metadata (setup.py) ... \u001b[?25l\u001b[?25hdone\n",
            "Collecting gunicorn>=20.1.0 (from deepface)\n",
            "  Downloading gunicorn-23.0.0-py3-none-any.whl.metadata (4.4 kB)\n",
            "Requirement already satisfied: termcolor in /usr/local/lib/python3.10/dist-packages (from fire>=0.4.0->deepface) (2.5.0)\n",
            "Requirement already satisfied: Werkzeug>=3.0.0 in /usr/local/lib/python3.10/dist-packages (from Flask>=1.1.2->deepface) (3.1.3)\n",
            "Requirement already satisfied: Jinja2>=3.1.2 in /usr/local/lib/python3.10/dist-packages (from Flask>=1.1.2->deepface) (3.1.4)\n",
            "Requirement already satisfied: itsdangerous>=2.1.2 in /usr/local/lib/python3.10/dist-packages (from Flask>=1.1.2->deepface) (2.2.0)\n",
            "Requirement already satisfied: click>=8.1.3 in /usr/local/lib/python3.10/dist-packages (from Flask>=1.1.2->deepface) (8.1.7)\n",
            "Requirement already satisfied: blinker>=1.6.2 in /usr/local/lib/python3.10/dist-packages (from Flask>=1.1.2->deepface) (1.9.0)\n",
            "Requirement already satisfied: beautifulsoup4 in /usr/local/lib/python3.10/dist-packages (from gdown>=3.10.1->deepface) (4.12.3)\n",
            "Requirement already satisfied: filelock in /usr/local/lib/python3.10/dist-packages (from gdown>=3.10.1->deepface) (3.16.1)\n",
            "Requirement already satisfied: packaging in /usr/local/lib/python3.10/dist-packages (from gunicorn>=20.1.0->deepface) (24.2)\n",
            "Requirement already satisfied: absl-py in /usr/local/lib/python3.10/dist-packages (from keras>=2.2.0->deepface) (1.4.0)\n",
            "Requirement already satisfied: rich in /usr/local/lib/python3.10/dist-packages (from keras>=2.2.0->deepface) (13.9.4)\n",
            "Requirement already satisfied: namex in /usr/local/lib/python3.10/dist-packages (from keras>=2.2.0->deepface) (0.0.8)\n",
            "Requirement already satisfied: h5py in /usr/local/lib/python3.10/dist-packages (from keras>=2.2.0->deepface) (3.12.1)\n",
            "Requirement already satisfied: optree in /usr/local/lib/python3.10/dist-packages (from keras>=2.2.0->deepface) (0.13.1)\n",
            "Requirement already satisfied: ml-dtypes in /usr/local/lib/python3.10/dist-packages (from keras>=2.2.0->deepface) (0.4.1)\n",
            "Requirement already satisfied: joblib>=1.4.2 in /usr/local/lib/python3.10/dist-packages (from mtcnn>=0.1.0->deepface) (1.4.2)\n",
            "Collecting lz4>=4.3.3 (from mtcnn>=0.1.0->deepface)\n",
            "  Downloading lz4-4.3.3-cp310-cp310-manylinux_2_17_x86_64.manylinux2014_x86_64.whl.metadata (3.7 kB)\n",
            "Requirement already satisfied: python-dateutil>=2.8.2 in /usr/local/lib/python3.10/dist-packages (from pandas>=0.23.4->deepface) (2.8.2)\n",
            "Requirement already satisfied: pytz>=2020.1 in /usr/local/lib/python3.10/dist-packages (from pandas>=0.23.4->deepface) (2024.2)\n",
            "Requirement already satisfied: tzdata>=2022.7 in /usr/local/lib/python3.10/dist-packages (from pandas>=0.23.4->deepface) (2024.2)\n",
            "Requirement already satisfied: charset-normalizer<4,>=2 in /usr/local/lib/python3.10/dist-packages (from requests>=2.27.1->deepface) (3.4.0)\n",
            "Requirement already satisfied: idna<4,>=2.5 in /usr/local/lib/python3.10/dist-packages (from requests>=2.27.1->deepface) (3.10)\n",
            "Requirement already satisfied: urllib3<3,>=1.21.1 in /usr/local/lib/python3.10/dist-packages (from requests>=2.27.1->deepface) (2.2.3)\n",
            "Requirement already satisfied: certifi>=2017.4.17 in /usr/local/lib/python3.10/dist-packages (from requests>=2.27.1->deepface) (2024.8.30)\n",
            "Requirement already satisfied: astunparse>=1.6.0 in /usr/local/lib/python3.10/dist-packages (from tensorflow>=1.9.0->deepface) (1.6.3)\n",
            "Requirement already satisfied: flatbuffers>=24.3.25 in /usr/local/lib/python3.10/dist-packages (from tensorflow>=1.9.0->deepface) (24.3.25)\n",
            "Requirement already satisfied: gast!=0.5.0,!=0.5.1,!=0.5.2,>=0.2.1 in /usr/local/lib/python3.10/dist-packages (from tensorflow>=1.9.0->deepface) (0.6.0)\n",
            "Requirement already satisfied: google-pasta>=0.1.1 in /usr/local/lib/python3.10/dist-packages (from tensorflow>=1.9.0->deepface) (0.2.0)\n",
            "Requirement already satisfied: libclang>=13.0.0 in /usr/local/lib/python3.10/dist-packages (from tensorflow>=1.9.0->deepface) (18.1.1)\n",
            "Requirement already satisfied: opt-einsum>=2.3.2 in /usr/local/lib/python3.10/dist-packages (from tensorflow>=1.9.0->deepface) (3.4.0)\n",
            "Requirement already satisfied: protobuf!=4.21.0,!=4.21.1,!=4.21.2,!=4.21.3,!=4.21.4,!=4.21.5,<5.0.0dev,>=3.20.3 in /usr/local/lib/python3.10/dist-packages (from tensorflow>=1.9.0->deepface) (4.25.5)\n",
            "Requirement already satisfied: setuptools in /usr/local/lib/python3.10/dist-packages (from tensorflow>=1.9.0->deepface) (75.1.0)\n",
            "Requirement already satisfied: six>=1.12.0 in /usr/local/lib/python3.10/dist-packages (from tensorflow>=1.9.0->deepface) (1.16.0)\n",
            "Requirement already satisfied: typing-extensions>=3.6.6 in /usr/local/lib/python3.10/dist-packages (from tensorflow>=1.9.0->deepface) (4.12.2)\n",
            "Requirement already satisfied: wrapt>=1.11.0 in /usr/local/lib/python3.10/dist-packages (from tensorflow>=1.9.0->deepface) (1.17.0)\n",
            "Requirement already satisfied: grpcio<2.0,>=1.24.3 in /usr/local/lib/python3.10/dist-packages (from tensorflow>=1.9.0->deepface) (1.68.1)\n",
            "Requirement already satisfied: tensorboard<2.18,>=2.17 in /usr/local/lib/python3.10/dist-packages (from tensorflow>=1.9.0->deepface) (2.17.1)\n",
            "Requirement already satisfied: tensorflow-io-gcs-filesystem>=0.23.1 in /usr/local/lib/python3.10/dist-packages (from tensorflow>=1.9.0->deepface) (0.37.1)\n",
            "Requirement already satisfied: wheel<1.0,>=0.23.0 in /usr/local/lib/python3.10/dist-packages (from astunparse>=1.6.0->tensorflow>=1.9.0->deepface) (0.45.1)\n",
            "Requirement already satisfied: MarkupSafe>=2.0 in /usr/local/lib/python3.10/dist-packages (from Jinja2>=3.1.2->Flask>=1.1.2->deepface) (3.0.2)\n",
            "Requirement already satisfied: markdown>=2.6.8 in /usr/local/lib/python3.10/dist-packages (from tensorboard<2.18,>=2.17->tensorflow>=1.9.0->deepface) (3.7)\n",
            "Requirement already satisfied: tensorboard-data-server<0.8.0,>=0.7.0 in /usr/local/lib/python3.10/dist-packages (from tensorboard<2.18,>=2.17->tensorflow>=1.9.0->deepface) (0.7.2)\n",
            "Requirement already satisfied: soupsieve>1.2 in /usr/local/lib/python3.10/dist-packages (from beautifulsoup4->gdown>=3.10.1->deepface) (2.6)\n",
            "Requirement already satisfied: PySocks!=1.5.7,>=1.5.6 in /usr/local/lib/python3.10/dist-packages (from requests[socks]->gdown>=3.10.1->deepface) (1.7.1)\n",
            "Requirement already satisfied: markdown-it-py>=2.2.0 in /usr/local/lib/python3.10/dist-packages (from rich->keras>=2.2.0->deepface) (3.0.0)\n",
            "Requirement already satisfied: pygments<3.0.0,>=2.13.0 in /usr/local/lib/python3.10/dist-packages (from rich->keras>=2.2.0->deepface) (2.18.0)\n",
            "Requirement already satisfied: mdurl~=0.1 in /usr/local/lib/python3.10/dist-packages (from markdown-it-py>=2.2.0->rich->keras>=2.2.0->deepface) (0.1.2)\n",
            "Downloading deepface-0.0.93-py3-none-any.whl (108 kB)\n",
            "\u001b[2K   \u001b[90m━━━━━━━━━━━━━━━━━━━━━━━━━━━━━━━━━━━━━━━━\u001b[0m \u001b[32m108.6/108.6 kB\u001b[0m \u001b[31m7.6 MB/s\u001b[0m eta \u001b[36m0:00:00\u001b[0m\n",
            "\u001b[?25hDownloading Flask_Cors-5.0.0-py2.py3-none-any.whl (14 kB)\n",
            "Downloading gunicorn-23.0.0-py3-none-any.whl (85 kB)\n",
            "\u001b[2K   \u001b[90m━━━━━━━━━━━━━━━━━━━━━━━━━━━━━━━━━━━━━━━━\u001b[0m \u001b[32m85.0/85.0 kB\u001b[0m \u001b[31m5.0 MB/s\u001b[0m eta \u001b[36m0:00:00\u001b[0m\n",
            "\u001b[?25hDownloading mtcnn-1.0.0-py3-none-any.whl (1.9 MB)\n",
            "\u001b[2K   \u001b[90m━━━━━━━━━━━━━━━━━━━━━━━━━━━━━━━━━━━━━━━━\u001b[0m \u001b[32m1.9/1.9 MB\u001b[0m \u001b[31m26.9 MB/s\u001b[0m eta \u001b[36m0:00:00\u001b[0m\n",
            "\u001b[?25hDownloading retina_face-0.0.17-py3-none-any.whl (25 kB)\n",
            "Downloading lz4-4.3.3-cp310-cp310-manylinux_2_17_x86_64.manylinux2014_x86_64.whl (1.3 MB)\n",
            "\u001b[2K   \u001b[90m━━━━━━━━━━━━━━━━━━━━━━━━━━━━━━━━━━━━━━━━\u001b[0m \u001b[32m1.3/1.3 MB\u001b[0m \u001b[31m24.0 MB/s\u001b[0m eta \u001b[36m0:00:00\u001b[0m\n",
            "\u001b[?25hBuilding wheels for collected packages: fire\n",
            "  Building wheel for fire (setup.py) ... \u001b[?25l\u001b[?25hdone\n",
            "  Created wheel for fire: filename=fire-0.7.0-py3-none-any.whl size=114249 sha256=c3d83e7a120dd1aad5c950a8d579cc8e0bbbae40abcacb414094318523d40cd4\n",
            "  Stored in directory: /root/.cache/pip/wheels/19/39/2f/2d3cadc408a8804103f1c34ddd4b9f6a93497b11fa96fe738e\n",
            "Successfully built fire\n",
            "Installing collected packages: lz4, gunicorn, fire, mtcnn, flask-cors, retina-face, deepface\n",
            "Successfully installed deepface-0.0.93 fire-0.7.0 flask-cors-5.0.0 gunicorn-23.0.0 lz4-4.3.3 mtcnn-1.0.0 retina-face-0.0.17\n",
            "24-12-09 20:59:51 - Directory /root/.deepface has been created\n",
            "24-12-09 20:59:51 - Directory /root/.deepface/weights has been created\n"
          ]
        }
      ],
      "source": [
        "# Importing necessary libraries for handling files, image processing, data manipulation and visualization.\n",
        "import os\n",
        "import zipfile\n",
        "from PIL import Image\n",
        "import numpy as np\n",
        "import pandas as pd\n",
        "import matplotlib.pyplot as plt\n",
        "import plotly.express as px\n",
        "!pip install deepface\n",
        "\n",
        "# Importing the deepface library for emotion analysis.\n",
        "from deepface import DeepFace\n"
      ]
    },
    {
      "cell_type": "markdown",
      "source": [],
      "metadata": {
        "id": "rxf4VMETI1S6"
      }
    },
    {
      "cell_type": "code",
      "source": [
        "# Extracting the images from Google Drive into the working directory.\n",
        "\n",
        "!gdown https://drive.google.com/uc?id=1RQ-xiyG20k2Bb9-nmw48GX1NUNpjnJE2\n",
        "zip_path = 'Political party images CV.zip'\n",
        "with zipfile.ZipFile(zip_path, 'r') as zip_ref:\n",
        "    zip_ref.extractall('.')\n"
      ],
      "metadata": {
        "colab": {
          "base_uri": "https://localhost:8080/"
        },
        "id": "0WHXKXpWjNpB",
        "outputId": "30230362-324e-4bce-85f7-a66e05496f99"
      },
      "execution_count": null,
      "outputs": [
        {
          "output_type": "stream",
          "name": "stdout",
          "text": [
            "Downloading...\n",
            "From: https://drive.google.com/uc?id=1RQ-xiyG20k2Bb9-nmw48GX1NUNpjnJE2\n",
            "To: /content/Political party images CV.zip\n",
            "\r  0% 0.00/12.9M [00:00<?, ?B/s]\r100% 12.9M/12.9M [00:00<00:00, 206MB/s]\n"
          ]
        }
      ]
    },
    {
      "cell_type": "markdown",
      "source": [
        "In this initial phase the images are pre-processed and standardized. This is crucial since variations in image size can affect the performance of the analysis, potentially leading to incostistencies or biases. This allows for a more unbiased analysis and makes the images ready for machine learning models for emotion recognition."
      ],
      "metadata": {
        "id": "HGx8RNW4I9Ob"
      }
    },
    {
      "cell_type": "code",
      "source": [
        "from PIL import Image\n",
        "import os\n",
        "\n",
        "def load_and_resize_images(folder_path, size=(256, 256)):\n",
        "    images = []\n",
        "    print(f\"Loading images from {folder_path}...\")\n",
        "    image_count = 0  # Counting how many images are processed\n",
        "\n",
        "    for filename in os.listdir(folder_path):\n",
        "        if filename.endswith('.jpeg'):  # Confirming the file extension matches\n",
        "            img_path = os.path.join(folder_path, filename)\n",
        "            try:\n",
        "                img = Image.open(img_path).resize(size)\n",
        "                images.append((img, img_path))\n",
        "                image_count += 1\n",
        "            except Exception as e:\n",
        "                print(f\"Could not load image {filename}: {e}\")\n",
        "\n",
        "    print(f\"Loaded and resized {image_count} images.\")\n",
        "    return images\n"
      ],
      "metadata": {
        "id": "WIQgOCtpjYaL"
      },
      "execution_count": null,
      "outputs": []
    },
    {
      "cell_type": "code",
      "source": [
        "# Looking into the folders for each party and how many images are processed.\n",
        "# We can see for some reason only 11 out of the 12 images are being processed for this party.\n",
        "\n",
        "folder_path = \"/content/Political party images CV/Sjalfstaedis\"\n",
        "loaded_images = load_and_resize_images(folder_path)\n",
        "print(f\"Total images loaded: {len(loaded_images)}\")"
      ],
      "metadata": {
        "colab": {
          "base_uri": "https://localhost:8080/"
        },
        "id": "dJmoAhpXniK6",
        "outputId": "acebcf3c-f180-40c2-ce04-857c86fc200f"
      },
      "execution_count": null,
      "outputs": [
        {
          "output_type": "stream",
          "name": "stdout",
          "text": [
            "Loading images from /content/Political party images CV/Sjalfstaedis...\n",
            "Loaded and resized 11 images.\n",
            "Total images loaded: 11\n"
          ]
        }
      ]
    },
    {
      "cell_type": "code",
      "source": [
        "# The same process for other parties, all 12 images are being processed.\n",
        "folder_path = \"/content/Political party images CV/Samfylking\"\n",
        "loaded_images = load_and_resize_images(folder_path)\n",
        "print(f\"Total images loaded: {len(loaded_images)}\")"
      ],
      "metadata": {
        "colab": {
          "base_uri": "https://localhost:8080/"
        },
        "id": "DkgnGy-anl4Z",
        "outputId": "4e99117d-6a85-4023-a268-5cf9dce64017"
      },
      "execution_count": null,
      "outputs": [
        {
          "output_type": "stream",
          "name": "stdout",
          "text": [
            "Loading images from /content/Political party images CV/Samfylking...\n",
            "Loaded and resized 12 images.\n",
            "Total images loaded: 12\n"
          ]
        }
      ]
    },
    {
      "cell_type": "code",
      "source": [
        "folder_path = \"/content/Political party images CV/Piratar\"\n",
        "loaded_images = load_and_resize_images(folder_path)\n",
        "print(f\"Total images loaded: {len(loaded_images)}\")"
      ],
      "metadata": {
        "colab": {
          "base_uri": "https://localhost:8080/"
        },
        "id": "760-YCD8nqsd",
        "outputId": "a13e33f0-6371-4dbb-83da-5556dab528d4"
      },
      "execution_count": null,
      "outputs": [
        {
          "output_type": "stream",
          "name": "stdout",
          "text": [
            "Loading images from /content/Political party images CV/Piratar...\n",
            "Loaded and resized 12 images.\n",
            "Total images loaded: 12\n"
          ]
        }
      ]
    },
    {
      "cell_type": "code",
      "source": [
        "folder_path = \"/content/Political party images CV/Midflokkur\"\n",
        "loaded_images = load_and_resize_images(folder_path)\n",
        "print(f\"Total images loaded: {len(loaded_images)}\")"
      ],
      "metadata": {
        "colab": {
          "base_uri": "https://localhost:8080/"
        },
        "id": "cCimOQGentQx",
        "outputId": "cf4306b1-3eb0-49b3-874f-91e60093c5d6"
      },
      "execution_count": null,
      "outputs": [
        {
          "output_type": "stream",
          "name": "stdout",
          "text": [
            "Loading images from /content/Political party images CV/Midflokkur...\n",
            "Loaded and resized 12 images.\n",
            "Total images loaded: 12\n"
          ]
        }
      ]
    },
    {
      "cell_type": "markdown",
      "source": [
        "# Emotion analysis"
      ],
      "metadata": {
        "id": "XGQhuy5gKnFs"
      }
    },
    {
      "cell_type": "markdown",
      "source": [
        "This segment analyses and aggregates emotion scores from images affiliated with the four political parties using DeepFace. Initially, the process involves setting up a structured directory environment, where images are organized by political parties, allowing for seamless access and batch processing. Crucial to this analysis is the analyze_emotions_in_folder function, which iterates through each party's image repository, applying the DeepFace.analyze method to quantify emotional expressions across predefined categories (such as 'happy', 'sad', 'angry', etc.). This method meticulously computes emotion scores for individual images, facilitating aggregation of these scores to encapsulate the overarching emotional associated with each party's visual portrayal."
      ],
      "metadata": {
        "id": "vPh6aTUFLrV6"
      }
    },
    {
      "cell_type": "code",
      "source": [
        "parent_folder = \"/content/Political party images CV\"\n",
        "folders = [\"Sjalfstaedis\", \"Samfylking\", \"Midflokkur\", \"Piratar\"]\n",
        "\n",
        "def analyze_emotions_in_folder(folder_name, folder_path):\n",
        "    emotion_scores = {emotion: [] for emotion in ['angry', 'disgust', 'fear', 'happy', 'sad', 'surprise', 'neutral']}\n",
        "\n",
        "    image_paths = [os.path.join(folder_path, f) for f in os.listdir(folder_path) if f.endswith('.jpeg')]\n",
        "\n",
        "    for img_path in image_paths:\n",
        "        try:\n",
        "            analysis = DeepFace.analyze(img_path=img_path, actions=['emotion'])\n",
        "            if isinstance(analysis, list):\n",
        "                analysis = analysis[0]\n",
        "\n",
        "            # Aggregate scores for each emotion\n",
        "            for emotion, score in analysis['emotion'].items():\n",
        "                emotion_scores[emotion].append(score)\n",
        "\n",
        "        except Exception as e:\n",
        "            print(f\"Error analyzing {img_path}: {e}\")\n",
        "\n",
        "    return emotion_scores\n",
        "\n",
        "# Dictionary to hold aggregated emotion scores for each party\n",
        "emotion_aggregates = {folder: {} for folder in folders}\n",
        "\n",
        "for folder in folders:\n",
        "    print(f\"\\nAnalyzing images in folder: {folder}\")\n",
        "    folder_path = os.path.join(parent_folder, folder)\n",
        "    emotion_aggregates[folder] = analyze_emotions_in_folder(folder, folder_path)\n",
        "\n",
        "# Calculate and print average emotion scores for each political party\n",
        "for party, scores in emotion_aggregates.items():\n",
        "    print(f\"\\nAverage emotion scores for {party}:\")\n",
        "    for emotion, score_list in scores.items():\n",
        "        if score_list:\n",
        "            average_score = np.mean(score_list)\n",
        "            print(f\"{emotion.capitalize()}: {average_score:.2f}\")\n",
        "        else:\n",
        "            print(f\"{emotion.capitalize()}: No data\")"
      ],
      "metadata": {
        "colab": {
          "base_uri": "https://localhost:8080/"
        },
        "id": "J4C4vZ5AjcBV",
        "outputId": "67e9d96e-bc74-45e2-c023-c5d73c42ef17"
      },
      "execution_count": null,
      "outputs": [
        {
          "output_type": "stream",
          "name": "stdout",
          "text": [
            "\n",
            "Analyzing images in folder: Sjalfstaedis\n",
            "24-12-09 21:00:06 - facial_expression_model_weights.h5 will be downloaded...\n"
          ]
        },
        {
          "output_type": "stream",
          "name": "stderr",
          "text": [
            "Downloading...\n",
            "From: https://github.com/serengil/deepface_models/releases/download/v1.0/facial_expression_model_weights.h5\n",
            "To: /root/.deepface/weights/facial_expression_model_weights.h5\n",
            "100%|██████████| 5.98M/5.98M [00:00<00:00, 44.2MB/s]\n"
          ]
        },
        {
          "output_type": "stream",
          "name": "stdout",
          "text": [
            "\n",
            "Analyzing images in folder: Samfylking\n",
            "Error analyzing /content/Political party images CV/Samfylking/samfylking11.jpeg: Face could not be detected in /content/Political party images CV/Samfylking/samfylking11.jpeg.Please confirm that the picture is a face photo or consider to set enforce_detection param to False.\n",
            "Error analyzing /content/Political party images CV/Samfylking/samfylkingin2.jpeg: Face could not be detected in /content/Political party images CV/Samfylking/samfylkingin2.jpeg.Please confirm that the picture is a face photo or consider to set enforce_detection param to False.\n",
            "\n",
            "Analyzing images in folder: Midflokkur\n",
            "\n",
            "Analyzing images in folder: Piratar\n",
            "Error analyzing /content/Political party images CV/Piratar/piratar10.jpeg: Face could not be detected in /content/Political party images CV/Piratar/piratar10.jpeg.Please confirm that the picture is a face photo or consider to set enforce_detection param to False.\n",
            "Error analyzing /content/Political party images CV/Piratar/piratar6.jpeg: Face could not be detected in /content/Political party images CV/Piratar/piratar6.jpeg.Please confirm that the picture is a face photo or consider to set enforce_detection param to False.\n",
            "\n",
            "Average emotion scores for Sjalfstaedis:\n",
            "Angry: 4.97\n",
            "Disgust: 0.01\n",
            "Fear: 17.19\n",
            "Happy: 37.97\n",
            "Sad: 21.95\n",
            "Surprise: 0.13\n",
            "Neutral: 17.79\n",
            "\n",
            "Average emotion scores for Samfylking:\n",
            "Angry: 5.27\n",
            "Disgust: 0.00\n",
            "Fear: 7.72\n",
            "Happy: 33.95\n",
            "Sad: 18.90\n",
            "Surprise: 0.06\n",
            "Neutral: 34.09\n",
            "\n",
            "Average emotion scores for Midflokkur:\n",
            "Angry: 9.98\n",
            "Disgust: 0.00\n",
            "Fear: 1.18\n",
            "Happy: 47.10\n",
            "Sad: 12.94\n",
            "Surprise: 0.76\n",
            "Neutral: 28.03\n",
            "\n",
            "Average emotion scores for Piratar:\n",
            "Angry: 1.71\n",
            "Disgust: 0.04\n",
            "Fear: 7.30\n",
            "Happy: 43.44\n",
            "Sad: 19.93\n",
            "Surprise: 0.04\n",
            "Neutral: 27.54\n"
          ]
        }
      ]
    },
    {
      "cell_type": "markdown",
      "source": [
        "As we can see, the results differ between the parties, and errors came up for four images in total, two from Samfylking and two from Píratar. To get a clearer view of the differences between the parties, I take a quick look at the top 3 emotions for each party."
      ],
      "metadata": {
        "id": "qiJKDENMRTvh"
      }
    },
    {
      "cell_type": "code",
      "source": [
        "import pandas as pd\n",
        "\n",
        "# Using the results from the emotion analysis\n",
        "data = {\n",
        "    'Party': ['Sjalfstaedis', 'Samfylking', 'Midflokkur', 'Piratar'],\n",
        "    'Angry': [6.26, 11.09, 5.78, 2.02],\n",
        "    'Disgust': [0.01, 0.00, 0.00, 0.02],\n",
        "    'Fear': [14.57, 9.84, 1.19, 7.00],\n",
        "    'Happy': [29.46, 35.55, 45.77, 68.27],\n",
        "    'Sad': [23.87, 5.49, 12.26, 4.37],\n",
        "    'Surprise': [1.77, 0.02, 0.00, 0.07],\n",
        "    'Neutral': [24.07, 38.02, 35.00, 18.25]\n",
        "}\n",
        "df = pd.DataFrame(data)\n",
        "\n",
        "# Adjusted function to get top 3 emotions for each party\n",
        "def get_top_3_emotions(row):\n",
        "    row_data = row[1:] if 'Party' in row.index else row\n",
        "    sorted_emotions = row_data.sort_values(ascending=False)\n",
        "    # Getting the top 3 emotions and their scores\n",
        "    top_3_emotions = sorted_emotions.head(3).index.tolist()\n",
        "    return pd.Series(top_3_emotions)\n",
        "\n",
        "top_3_emotions_df = df.apply(get_top_3_emotions, axis=1)\n",
        "top_3_emotions_df.columns = ['1st Emotion', '2nd Emotion', '3rd Emotion']\n",
        "\n",
        "result_df = pd.concat([df[['Party']], top_3_emotions_df], axis=1)\n",
        "\n",
        "print(result_df)\n"
      ],
      "metadata": {
        "colab": {
          "base_uri": "https://localhost:8080/"
        },
        "id": "IYg_LyRJjhKE",
        "outputId": "a8169210-4d38-4d12-8374-a20464057174"
      },
      "execution_count": null,
      "outputs": [
        {
          "output_type": "stream",
          "name": "stdout",
          "text": [
            "          Party 1st Emotion 2nd Emotion 3rd Emotion\n",
            "0  Sjalfstaedis       Happy     Neutral         Sad\n",
            "1    Samfylking     Neutral       Happy       Angry\n",
            "2    Midflokkur       Happy     Neutral         Sad\n",
            "3       Piratar       Happy     Neutral        Fear\n"
          ]
        }
      ]
    },
    {
      "cell_type": "markdown",
      "source": [
        "Happiness and neutrality are the most expressed emotions by the four parties, happiness is the top emotion for all except Samfylkingin, where neutrality has the highest score and happiness is in close second place. In third place we have sadness for Sjálfstæðisflokkur and Miðflokkur, but for Samfylking it is anger and Píratar fear. To look even further into these differences and enable for a clearer comparison between the four parties, I visualize the distribution of emotional composition for each party. Since four images could not be analysed, two from Samfylking and two from Píratar, and the algorythm seems to have missed one image from Sjálfstæðis, I normalize the scores into proportions to emphasize the relative importance of each emotion, rather than to see the absolute values."
      ],
      "metadata": {
        "id": "h5BjRKfERkQk"
      }
    },
    {
      "cell_type": "code",
      "source": [
        "import matplotlib.pyplot as plt\n",
        "\n",
        "data = {\n",
        "    'Party': ['Sjalfstaedis', 'Samfylking', 'Midflokkur', 'Piratar'],\n",
        "    'Angry': [6.26, 11.09, 5.78, 2.02],\n",
        "    'Disgust': [0.01, 0.00, 0.00, 0.02],\n",
        "    'Fear': [14.57, 9.84, 1.19, 7.00],\n",
        "    'Happy': [29.46, 35.55, 45.77, 68.27],\n",
        "    'Sad': [23.87, 5.49, 12.26, 4.37],\n",
        "    'Surprise': [1.77, 0.02, 0.00, 0.07],\n",
        "    'Neutral': [24.07, 38.02, 35.00, 18.25]\n",
        "}\n",
        "\n",
        "df = pd.DataFrame(data)\n",
        "\n",
        "# Normalizing the scores to get proportions\n",
        "emotion_columns = df.columns[1:]\n",
        "df[emotion_columns] = df[emotion_columns].div(df[emotion_columns].sum(axis=1), axis=0)\n",
        "\n",
        "color_map = {\n",
        "    \"Angry\": \"red\",\n",
        "    \"Disgust\": \"limegreen\",\n",
        "    \"Fear\": \"purple\",\n",
        "    \"Happy\": \"gold\",\n",
        "    \"Sad\": \"blue\",\n",
        "    \"Surprise\": \"orange\",\n",
        "    \"Neutral\": \"grey\"\n",
        "}\n",
        "\n",
        "ax = df.set_index(\"Party\")[emotion_columns].plot(kind=\"bar\", stacked=True, figsize=(10, 7), color=[color_map[col] for col in emotion_columns], edgecolor='black')\n",
        "\n",
        "plt.title(\"Proportional Distribution of Emotions by Political Party\")\n",
        "plt.xlabel(\"Political Party\")\n",
        "plt.ylabel(\"Proportion\")\n",
        "plt.legend(title=\"Emotion\", bbox_to_anchor=(1.05, 1), loc='upper left')\n",
        "plt.xticks(rotation=45)\n",
        "plt.tight_layout()\n",
        "\n",
        "plt.show()\n"
      ],
      "metadata": {
        "colab": {
          "base_uri": "https://localhost:8080/",
          "height": 707
        },
        "id": "VZ5fC9iDjuma",
        "outputId": "7071270e-0a9d-44ed-841a-8972023d22e4"
      },
      "execution_count": null,
      "outputs": [
        {
          "output_type": "display_data",
          "data": {
            "text/plain": [
              "<Figure size 1000x700 with 1 Axes>"
            ],
            "image/png": "[encoded data removed]"
          },
          "metadata": {}
        }
      ]
    },
    {
      "cell_type": "markdown",
      "source": [
        "As seen on the barchart, Sjálfstæðisflokkurinn shows a relatively balanced emotional composition with notable proportions of Fear, Sad and Neutral, alonside a significant presence of happy, which takes up the largest proportion of their emotions portrayed. The emotional profile of Samfylkingin is predominantly positive and calm, dominated by Happy and Neutral emotions. Even though they have the highest proportion of Angry out of the four parties, it still takes up a relatively small proportion of their profile overall. Miðflokkurinn is charectarized by a high proportion of Happy, followed by Neutral, so their overall imegary is rather positive, sadness takes up the third biggest proportion of their profile but is still relatively small. Píratar stand out with an overwhelming dominance of Happy, dwarfing all other emotions significantly. The minimal proportion of Angry, Fear and Sad alongside a lower Neutral score compared to others, suggest an exceptionally positive emotional strategy, possibly aiming to inspire their audience. The barchart is still missing some key emotions found in the overall analysis, so I plot this even further with an interactive radar chart."
      ],
      "metadata": {
        "id": "kF6a2stzW_X_"
      }
    },
    {
      "cell_type": "code",
      "source": [
        "!pip install plotly\n",
        "import plotly.graph_objects as go\n",
        "import pandas as pd\n",
        "\n",
        "data = {\n",
        "    'Party': ['Sjalfstaedis', 'Samfylking', 'Midflokkur', 'Piratar'],\n",
        "    'Angry': [6.26, 11.09, 5.78, 2.02],\n",
        "    'Disgust': [0.01, 0.00, 0.00, 0.02],\n",
        "    'Fear': [14.57, 9.84, 1.19, 7.00],\n",
        "    'Happy': [29.46, 35.55, 45.77, 68.27],\n",
        "    'Sad': [23.87, 5.49, 12.26, 4.37],\n",
        "    'Surprise': [1.77, 0.02, 0.00, 0.07],\n",
        "    'Neutral': [24.07, 38.02, 35.00, 18.25]\n",
        "}\n",
        "df = pd.DataFrame(data)\n",
        "\n",
        "emotion_columns = df.columns[1:]  # Exclude \"Party\"\n",
        "df[emotion_columns] = df[emotion_columns].div(df[emotion_columns].sum(axis=1), axis=0)\n",
        "\n",
        "fig = go.Figure()\n",
        "\n",
        "for index, row in df.iterrows():\n",
        "    fig.add_trace(go.Scatterpolar(\n",
        "        r=row[emotion_columns].values,\n",
        "        theta=emotion_columns,\n",
        "        fill='toself',\n",
        "        name=row[\"Party\"]\n",
        "    ))\n",
        "\n",
        "fig.update_layout(\n",
        "    polar=dict(\n",
        "        radialaxis=dict(\n",
        "            visible=True,\n",
        "            range=[0, 1]\n",
        "        )),\n",
        "    title=\"Proportional Distribution of Emotions by Political Party\",\n",
        "    showlegend=True\n",
        ")\n",
        "\n",
        "fig.show()\n"
      ],
      "metadata": {
        "colab": {
          "base_uri": "https://localhost:8080/",
          "height": 596
        },
        "id": "CIzxKOkWjxno",
        "outputId": "b247d036-bb85-4276-9b32-cd6c34cf39ed"
      },
      "execution_count": null,
      "outputs": [
        {
          "output_type": "stream",
          "name": "stdout",
          "text": [
            "Requirement already satisfied: plotly in /usr/local/lib/python3.10/dist-packages (5.24.1)\n",
            "Requirement already satisfied: tenacity>=6.2.0 in /usr/local/lib/python3.10/dist-packages (from plotly) (9.0.0)\n",
            "Requirement already satisfied: packaging in /usr/local/lib/python3.10/dist-packages (from plotly) (24.2)\n"
          ]
        },
        {
          "output_type": "display_data",
          "data": {
            "text/html": [
              "<html>\n",
              "<head><meta charset=\"utf-8\" /></head>\n",
              "<body>\n",
              "    <div>            <script src=\"https://cdnjs.cloudflare.com/ajax/libs/mathjax/2.7.5/MathJax.js?config=TeX-AMS-MML_SVG\"></script><script type=\"text/javascript\">if (window.MathJax && window.MathJax.Hub && window.MathJax.Hub.Config) {window.MathJax.Hub.Config({SVG: {font: \"STIX-Web\"}});}</script>                <script type=\"text/javascript\">window.PlotlyConfig = {MathJaxConfig: 'local'};</script>\n",
              "        <script charset=\"utf-8\" src=\"https://cdn.plot.ly/plotly-2.35.2.min.js\"></script>                <div id=\"79cdd7de-af8b-4fa2-9c9a-d4b9e8e80c96\" class=\"plotly-graph-div\" style=\"height:525px; width:100%;\"></div>            <script type=\"text/javascript\">                                    window.PLOTLYENV=window.PLOTLYENV || {};                                    if (document.getElementById(\"79cdd7de-af8b-4fa2-9c9a-d4b9e8e80c96\")) {                    Plotly.newPlot(                        \"79cdd7de-af8b-4fa2-9c9a-d4b9e8e80c96\",                        [{\"fill\":\"toself\",\"name\":\"Sjalfstaedis\",\"r\":[0.06259374062593741,0.00009999000099990002,0.14568543145685434,0.29457054294570545,0.23867613238676136,0.017698230176982303,0.24067593240675936],\"theta\":[\"Angry\",\"Disgust\",\"Fear\",\"Happy\",\"Sad\",\"Surprise\",\"Neutral\"],\"type\":\"scatterpolar\"},{\"fill\":\"toself\",\"name\":\"Samfylking\",\"r\":[0.1108889111088891,0.0,0.0983901609839016,0.3554644535546445,0.054894510548945105,0.0001999800019998,0.38016198380161986],\"theta\":[\"Angry\",\"Disgust\",\"Fear\",\"Happy\",\"Sad\",\"Surprise\",\"Neutral\"],\"type\":\"scatterpolar\"},{\"fill\":\"toself\",\"name\":\"Midflokkur\",\"r\":[0.057800000000000004,0.0,0.011899999999999999,0.45770000000000005,0.1226,0.0,0.35],\"theta\":[\"Angry\",\"Disgust\",\"Fear\",\"Happy\",\"Sad\",\"Surprise\",\"Neutral\"],\"type\":\"scatterpolar\"},{\"fill\":\"toself\",\"name\":\"Piratar\",\"r\":[0.0202,0.0002,0.07,0.6827,0.0437,0.0007000000000000001,0.1825],\"theta\":[\"Angry\",\"Disgust\",\"Fear\",\"Happy\",\"Sad\",\"Surprise\",\"Neutral\"],\"type\":\"scatterpolar\"}],                        {\"template\":{\"data\":{\"histogram2dcontour\":[{\"type\":\"histogram2dcontour\",\"colorbar\":{\"outlinewidth\":0,\"ticks\":\"\"},\"colorscale\":[[0.0,\"#0d0887\"],[0.1111111111111111,\"#46039f\"],[0.2222222222222222,\"#7201a8\"],[0.3333333333333333,\"#9c179e\"],[0.4444444444444444,\"#bd3786\"],[0.5555555555555556,\"#d8576b\"],[0.6666666666666666,\"#ed7953\"],[0.7777777777777778,\"#fb9f3a\"],[0.8888888888888888,\"#fdca26\"],[1.0,\"#f0f921\"]]}],\"choropleth\":[{\"type\":\"choropleth\",\"colorbar\":{\"outlinewidth\":0,\"ticks\":\"\"}}],\"histogram2d\":[{\"type\":\"histogram2d\",\"colorbar\":{\"outlinewidth\":0,\"ticks\":\"\"},\"colorscale\":[[0.0,\"#0d0887\"],[0.1111111111111111,\"#46039f\"],[0.2222222222222222,\"#7201a8\"],[0.3333333333333333,\"#9c179e\"],[0.4444444444444444,\"#bd3786\"],[0.5555555555555556,\"#d8576b\"],[0.6666666666666666,\"#ed7953\"],[0.7777777777777778,\"#fb9f3a\"],[0.8888888888888888,\"#fdca26\"],[1.0,\"#f0f921\"]]}],\"heatmap\":[{\"type\":\"heatmap\",\"colorbar\":{\"outlinewidth\":0,\"ticks\":\"\"},\"colorscale\":[[0.0,\"#0d0887\"],[0.1111111111111111,\"#46039f\"],[0.2222222222222222,\"#7201a8\"],[0.3333333333333333,\"#9c179e\"],[0.4444444444444444,\"#bd3786\"],[0.5555555555555556,\"#d8576b\"],[0.6666666666666666,\"#ed7953\"],[0.7777777777777778,\"#fb9f3a\"],[0.8888888888888888,\"#fdca26\"],[1.0,\"#f0f921\"]]}],\"heatmapgl\":[{\"type\":\"heatmapgl\",\"colorbar\":{\"outlinewidth\":0,\"ticks\":\"\"},\"colorscale\":[[0.0,\"#0d0887\"],[0.1111111111111111,\"#46039f\"],[0.2222222222222222,\"#7201a8\"],[0.3333333333333333,\"#9c179e\"],[0.4444444444444444,\"#bd3786\"],[0.5555555555555556,\"#d8576b\"],[0.6666666666666666,\"#ed7953\"],[0.7777777777777778,\"#fb9f3a\"],[0.8888888888888888,\"#fdca26\"],[1.0,\"#f0f921\"]]}],\"contourcarpet\":[{\"type\":\"contourcarpet\",\"colorbar\":{\"outlinewidth\":0,\"ticks\":\"\"}}],\"contour\":[{\"type\":\"contour\",\"colorbar\":{\"outlinewidth\":0,\"ticks\":\"\"},\"colorscale\":[[0.0,\"#0d0887\"],[0.1111111111111111,\"#46039f\"],[0.2222222222222222,\"#7201a8\"],[0.3333333333333333,\"#9c179e\"],[0.4444444444444444,\"#bd3786\"],[0.5555555555555556,\"#d8576b\"],[0.6666666666666666,\"#ed7953\"],[0.7777777777777778,\"#fb9f3a\"],[0.8888888888888888,\"#fdca26\"],[1.0,\"#f0f921\"]]}],\"surface\":[{\"type\":\"surface\",\"colorbar\":{\"outlinewidth\":0,\"ticks\":\"\"},\"colorscale\":[[0.0,\"#0d0887\"],[0.1111111111111111,\"#46039f\"],[0.2222222222222222,\"#7201a8\"],[0.3333333333333333,\"#9c179e\"],[0.4444444444444444,\"#bd3786\"],[0.5555555555555556,\"#d8576b\"],[0.6666666666666666,\"#ed7953\"],[0.7777777777777778,\"#fb9f3a\"],[0.8888888888888888,\"#fdca26\"],[1.0,\"#f0f921\"]]}],\"mesh3d\":[{\"type\":\"mesh3d\",\"colorbar\":{\"outlinewidth\":0,\"ticks\":\"\"}}],\"scatter\":[{\"fillpattern\":{\"fillmode\":\"overlay\",\"size\":10,\"solidity\":0.2},\"type\":\"scatter\"}],\"parcoords\":[{\"type\":\"parcoords\",\"line\":{\"colorbar\":{\"outlinewidth\":0,\"ticks\":\"\"}}}],\"scatterpolargl\":[{\"type\":\"scatterpolargl\",\"marker\":{\"colorbar\":{\"outlinewidth\":0,\"ticks\":\"\"}}}],\"bar\":[{\"error_x\":{\"color\":\"#2a3f5f\"},\"error_y\":{\"color\":\"#2a3f5f\"},\"marker\":{\"line\":{\"color\":\"#E5ECF6\",\"width\":0.5},\"pattern\":{\"fillmode\":\"overlay\",\"size\":10,\"solidity\":0.2}},\"type\":\"bar\"}],\"scattergeo\":[{\"type\":\"scattergeo\",\"marker\":{\"colorbar\":{\"outlinewidth\":0,\"ticks\":\"\"}}}],\"scatterpolar\":[{\"type\":\"scatterpolar\",\"marker\":{\"colorbar\":{\"outlinewidth\":0,\"ticks\":\"\"}}}],\"histogram\":[{\"marker\":{\"pattern\":{\"fillmode\":\"overlay\",\"size\":10,\"solidity\":0.2}},\"type\":\"histogram\"}],\"scattergl\":[{\"type\":\"scattergl\",\"marker\":{\"colorbar\":{\"outlinewidth\":0,\"ticks\":\"\"}}}],\"scatter3d\":[{\"type\":\"scatter3d\",\"line\":{\"colorbar\":{\"outlinewidth\":0,\"ticks\":\"\"}},\"marker\":{\"colorbar\":{\"outlinewidth\":0,\"ticks\":\"\"}}}],\"scattermapbox\":[{\"type\":\"scattermapbox\",\"marker\":{\"colorbar\":{\"outlinewidth\":0,\"ticks\":\"\"}}}],\"scatterternary\":[{\"type\":\"scatterternary\",\"marker\":{\"colorbar\":{\"outlinewidth\":0,\"ticks\":\"\"}}}],\"scattercarpet\":[{\"type\":\"scattercarpet\",\"marker\":{\"colorbar\":{\"outlinewidth\":0,\"ticks\":\"\"}}}],\"carpet\":[{\"aaxis\":{\"endlinecolor\":\"#2a3f5f\",\"gridcolor\":\"white\",\"linecolor\":\"white\",\"minorgridcolor\":\"white\",\"startlinecolor\":\"#2a3f5f\"},\"baxis\":{\"endlinecolor\":\"#2a3f5f\",\"gridcolor\":\"white\",\"linecolor\":\"white\",\"minorgridcolor\":\"white\",\"startlinecolor\":\"#2a3f5f\"},\"type\":\"carpet\"}],\"table\":[{\"cells\":{\"fill\":{\"color\":\"#EBF0F8\"},\"line\":{\"color\":\"white\"}},\"header\":{\"fill\":{\"color\":\"#C8D4E3\"},\"line\":{\"color\":\"white\"}},\"type\":\"table\"}],\"barpolar\":[{\"marker\":{\"line\":{\"color\":\"#E5ECF6\",\"width\":0.5},\"pattern\":{\"fillmode\":\"overlay\",\"size\":10,\"solidity\":0.2}},\"type\":\"barpolar\"}],\"pie\":[{\"automargin\":true,\"type\":\"pie\"}]},\"layout\":{\"autotypenumbers\":\"strict\",\"colorway\":[\"#636efa\",\"#EF553B\",\"#00cc96\",\"#ab63fa\",\"#FFA15A\",\"#19d3f3\",\"#FF6692\",\"#B6E880\",\"#FF97FF\",\"#FECB52\"],\"font\":{\"color\":\"#2a3f5f\"},\"hovermode\":\"closest\",\"hoverlabel\":{\"align\":\"left\"},\"paper_bgcolor\":\"white\",\"plot_bgcolor\":\"#E5ECF6\",\"polar\":{\"bgcolor\":\"#E5ECF6\",\"angularaxis\":{\"gridcolor\":\"white\",\"linecolor\":\"white\",\"ticks\":\"\"},\"radialaxis\":{\"gridcolor\":\"white\",\"linecolor\":\"white\",\"ticks\":\"\"}},\"ternary\":{\"bgcolor\":\"#E5ECF6\",\"aaxis\":{\"gridcolor\":\"white\",\"linecolor\":\"white\",\"ticks\":\"\"},\"baxis\":{\"gridcolor\":\"white\",\"linecolor\":\"white\",\"ticks\":\"\"},\"caxis\":{\"gridcolor\":\"white\",\"linecolor\":\"white\",\"ticks\":\"\"}},\"coloraxis\":{\"colorbar\":{\"outlinewidth\":0,\"ticks\":\"\"}},\"colorscale\":{\"sequential\":[[0.0,\"#0d0887\"],[0.1111111111111111,\"#46039f\"],[0.2222222222222222,\"#7201a8\"],[0.3333333333333333,\"#9c179e\"],[0.4444444444444444,\"#bd3786\"],[0.5555555555555556,\"#d8576b\"],[0.6666666666666666,\"#ed7953\"],[0.7777777777777778,\"#fb9f3a\"],[0.8888888888888888,\"#fdca26\"],[1.0,\"#f0f921\"]],\"sequentialminus\":[[0.0,\"#0d0887\"],[0.1111111111111111,\"#46039f\"],[0.2222222222222222,\"#7201a8\"],[0.3333333333333333,\"#9c179e\"],[0.4444444444444444,\"#bd3786\"],[0.5555555555555556,\"#d8576b\"],[0.6666666666666666,\"#ed7953\"],[0.7777777777777778,\"#fb9f3a\"],[0.8888888888888888,\"#fdca26\"],[1.0,\"#f0f921\"]],\"diverging\":[[0,\"#8e0152\"],[0.1,\"#c51b7d\"],[0.2,\"#de77ae\"],[0.3,\"#f1b6da\"],[0.4,\"#fde0ef\"],[0.5,\"#f7f7f7\"],[0.6,\"#e6f5d0\"],[0.7,\"#b8e186\"],[0.8,\"#7fbc41\"],[0.9,\"#4d9221\"],[1,\"#276419\"]]},\"xaxis\":{\"gridcolor\":\"white\",\"linecolor\":\"white\",\"ticks\":\"\",\"title\":{\"standoff\":15},\"zerolinecolor\":\"white\",\"automargin\":true,\"zerolinewidth\":2},\"yaxis\":{\"gridcolor\":\"white\",\"linecolor\":\"white\",\"ticks\":\"\",\"title\":{\"standoff\":15},\"zerolinecolor\":\"white\",\"automargin\":true,\"zerolinewidth\":2},\"scene\":{\"xaxis\":{\"backgroundcolor\":\"#E5ECF6\",\"gridcolor\":\"white\",\"linecolor\":\"white\",\"showbackground\":true,\"ticks\":\"\",\"zerolinecolor\":\"white\",\"gridwidth\":2},\"yaxis\":{\"backgroundcolor\":\"#E5ECF6\",\"gridcolor\":\"white\",\"linecolor\":\"white\",\"showbackground\":true,\"ticks\":\"\",\"zerolinecolor\":\"white\",\"gridwidth\":2},\"zaxis\":{\"backgroundcolor\":\"#E5ECF6\",\"gridcolor\":\"white\",\"linecolor\":\"white\",\"showbackground\":true,\"ticks\":\"\",\"zerolinecolor\":\"white\",\"gridwidth\":2}},\"shapedefaults\":{\"line\":{\"color\":\"#2a3f5f\"}},\"annotationdefaults\":{\"arrowcolor\":\"#2a3f5f\",\"arrowhead\":0,\"arrowwidth\":1},\"geo\":{\"bgcolor\":\"white\",\"landcolor\":\"#E5ECF6\",\"subunitcolor\":\"white\",\"showland\":true,\"showlakes\":true,\"lakecolor\":\"white\"},\"title\":{\"x\":0.05},\"mapbox\":{\"style\":\"light\"}}},\"polar\":{\"radialaxis\":{\"visible\":true,\"range\":[0,1]}},\"title\":{\"text\":\"Proportional Distribution of Emotions by Political Party\"},\"showlegend\":true},                        {\"responsive\": true}                    ).then(function(){\n",
              "                            \n",
              "var gd = document.getElementById('79cdd7de-af8b-4fa2-9c9a-d4b9e8e80c96');\n",
              "var x = new MutationObserver(function (mutations, observer) {{\n",
              "        var display = window.getComputedStyle(gd).display;\n",
              "        if (!display || display === 'none') {{\n",
              "            console.log([gd, 'removed!']);\n",
              "            Plotly.purge(gd);\n",
              "            observer.disconnect();\n",
              "        }}\n",
              "}});\n",
              "\n",
              "// Listen for the removal of the full notebook cells\n",
              "var notebookContainer = gd.closest('#notebook-container');\n",
              "if (notebookContainer) {{\n",
              "    x.observe(notebookContainer, {childList: true});\n",
              "}}\n",
              "\n",
              "// Listen for the clearing of the current output cell\n",
              "var outputEl = gd.closest('.output');\n",
              "if (outputEl) {{\n",
              "    x.observe(outputEl, {childList: true});\n",
              "}}\n",
              "\n",
              "                        })                };                            </script>        </div>\n",
              "</body>\n",
              "</html>"
            ]
          },
          "metadata": {}
        }
      ]
    },
    {
      "cell_type": "markdown",
      "source": [
        "The radar chart highlights the balance of emotions within each party's profile. For instance, the broader spread of Sjálfstæðisflokkurinn across emotions like Fear, Sad, and Neutral — with relatively high values — suggests a more balanced emotional appeal compared to others. The proximity between Happy and Neutral for Samfylkingin and Miðflokkurinn, for instance, suggests these parties aim to blend positivity with a sense of calm or neutrality. This might indicate a strategic positioning to appeal as both optimistic and reliable. In contrast, the sharp contrast between Happy and other emotions in Píratar's profile underscores a more singular focus on projecting positivity. Ultimately, the radar chart offers a clear \"emotional signature\" for each party, a holistic view that encapsulates the party's emotional branding. This signature provides insights into how each party might be leveraging emotional content to forge a distinct identity within the political landscape, aiming to resonate with specific voter segments or societal values."
      ],
      "metadata": {
        "id": "hM5v1JlGZ5dO"
      }
    },
    {
      "cell_type": "markdown",
      "source": [
        "# Results and Discussions\n"
      ],
      "metadata": {
        "id": "0x9OxSPTbN9i"
      }
    },
    {
      "cell_type": "markdown",
      "source": [
        "The findings from this project provide insights into the landscape of emotional expressions within the imagery associated with Icelandic political parties. Utilizing computer vision techniques, the analysis delineated a predominant tilt towards positive emotional displays across the board, with 'Happy' notably dominating the profiles of certain parties, particularly 'Piratar'. The analysis brought to light the distinctive emotional signatures of each party, from the balanced emotional spectrum of Sjálfstæðisflokkurinn, characterized by a mix of Fear, Sad, and Neutral, to Miðflokkur's emphasis on Happy and Neutral, painting a picture of a diverse political landscape. Active parties, encompassing both conservative Sjálfstæðisflokkurinn and liberal Samfylkingin, tend to showcase a broader emotional range in their imagery, perhaps reflecting the complexities and responsibilities of governance. This range includes both positive and more contemplative emotions, suggesting a nuanced approach to addressing and representing diverse societal issues.\n",
        "\n",
        "Opposition parties, represented by conservative Miðflokkurinn and liberal Píratar, lean heavily towards positive emotions, particularly Happy, in their visual communications. This pronounced positivity might be a strategic choice to project hope and optimism, setting themselves apart as appealing alternatives to the current political establishment.\n",
        "\n",
        "Furthermore, the distinction between liberal and conservative parties is subtly underscored in their emotional expression. Liberal parties, Samfylkingin and Píratar, emphasize positivity, potentially aiming to resonate with progressive values and aspirations for change. Conservative parties, while also incorporating positive emotions, display a more varied emotional palette, possibly reflecting traditional values and a broader consideration of societal concerns.This diversity not only underscores the strategic use of imagery to convey specific narratives and values but also opens up avenues for deeper inquiry into the relationship between emotional expression and political identity.\n",
        "\n",
        "These results align closely with existing literature\n",
        "However, the project's approach is not without its limitations. The reliance on machine learning models for emotion analysis, while innovative, introduces potential biases inherent in these models, possibly skewing the interpretation of emotional expressions. Additionally, the decision to analyze imagery from a select number of parties limits the generalizability of the findings, suggesting the need for a broader investigation that includes a wider array of political entities to capture the full spectrum of emotional strategies employed in Icelandic politics. In future research in could prove more insightful to analyze all parties, and compare images from their ads for the same particular campaign, like the upcoming local government elections later this year.\n"
      ],
      "metadata": {
        "id": "-PYmyLP_bQvJ"
      }
    },
    {
      "cell_type": "markdown",
      "source": [
        "# References"
      ],
      "metadata": {
        "id": "ookz_gLbjHLb"
      }
    },
    {
      "cell_type": "markdown",
      "source": [
        "\n",
        "\n",
        "J. T. Aparicio, J. Salema de Sequeira and C. J. Costa, \"Emotion analysis of Portuguese Political Parties Communication over the covid-19 Pandemic,\" 2021 16th Iberian Conference on Information Systems and Technologies (CISTI), Chaves, Portugal, 2021, pp. 1-6, doi: 10.23919/CISTI52073.2021.9476557.\n",
        "\n",
        "Mercer, J. Human nature and the first image: emotion in international politics. J Int Relat Dev 9, 288–303 (2006). https://doi.org/10.1057/palgrave.jird.1800091\n",
        "\n",
        "\n",
        "Simon Scheller (2019) The Strategic Use of Fear Appeals in Political Communication, Political Communication, 36:4, 586-608, DOI: 10.1080/10584609.2019.1631918\n",
        "\n",
        "Szeliski, R. (2010) Computer Vision. 2nd edn. Cham: Springer."
      ],
      "metadata": {
        "id": "4fSOOJyFjKvT"
      }
    }
  ]
}